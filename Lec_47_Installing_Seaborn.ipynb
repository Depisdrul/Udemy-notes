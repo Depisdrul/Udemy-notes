{
 "cells": [
  {
   "cell_type": "markdown",
   "id": "efb3c072",
   "metadata": {},
   "source": [
    "To install file the directions at the following link, you should be able to use a simple pip install.\n",
    "Remember to install the dependencies!"
   ]
  },
  {
   "cell_type": "markdown",
   "id": "22505710",
   "metadata": {},
   "source": [
    "http://stanford.edu/~mwaskom/software/seaborn/installing.html"
   ]
  },
  {
   "cell_type": "code",
   "execution_count": null,
   "id": "d9d4643e",
   "metadata": {
    "collapsed": false
   },
   "outputs": [],
   "source": []
  }
 ],
 "metadata": {},
 "nbformat": 4,
 "nbformat_minor": 5
}
