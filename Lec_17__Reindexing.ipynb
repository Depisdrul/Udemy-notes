{
 "cells": [
  {
   "cell_type": "code",
   "execution_count": 36,
   "id": "5bcf8a4d",
   "metadata": {
    "collapsed": false
   },
   "outputs": [],
   "source": [
    "#Now we'll learn about reindexing"
   ]
  },
  {
   "cell_type": "code",
   "execution_count": 37,
   "id": "524abd2d",
   "metadata": {
    "collapsed": false
   },
   "outputs": [],
   "source": [
    "import numpy as np\n",
    "from pandas import Series, DataFrame\n",
    "import pandas as pd\n",
    "from numpy.random import randn"
   ]
  },
  {
   "cell_type": "code",
   "execution_count": 38,
   "id": "63284165",
   "metadata": {
    "collapsed": false
   },
   "outputs": [],
   "source": [
    "#Lets create a new series\n",
    "ser1 = Series([1,2,3,4],index=['A','B','C','D'])"
   ]
  },
  {
   "cell_type": "code",
   "execution_count": 39,
   "id": "a2400851",
   "metadata": {
    "collapsed": false
   },
   "outputs": [
    {
     "data": {
      "text/plain": [
       "A    1\n",
       "B    2\n",
       "C    3\n",
       "D    4\n",
       "dtype: int64"
      ]
     },
     "execution_count": 39,
     "metadata": {},
     "output_type": "execute_result"
    }
   ],
   "source": [
    "#Show\n",
    "ser1"
   ]
  },
  {
   "cell_type": "code",
   "execution_count": 40,
   "id": "199fd66c",
   "metadata": {
    "collapsed": false
   },
   "outputs": [],
   "source": [
    "#Call reindex to rearrange the data to a new index\n",
    "ser2 = ser1.reindex(['A','B','C','D','E','F'])"
   ]
  },
  {
   "cell_type": "code",
   "execution_count": 41,
   "id": "7a40aa2a",
   "metadata": {
    "collapsed": false
   },
   "outputs": [
    {
     "data": {
      "text/plain": [
       "A    1.0\n",
       "B    2.0\n",
       "C    3.0\n",
       "D    4.0\n",
       "E    NaN\n",
       "F    NaN\n",
       "dtype: float64"
      ]
     },
     "execution_count": 41,
     "metadata": {},
     "output_type": "execute_result"
    }
   ],
   "source": [
    "#Show\n",
    "ser2"
   ]
  },
  {
   "cell_type": "code",
   "execution_count": 42,
   "id": "fbec6c0c",
   "metadata": {
    "collapsed": false
   },
   "outputs": [
    {
     "data": {
      "text/plain": [
       "A    1.0\n",
       "B    2.0\n",
       "C    3.0\n",
       "D    4.0\n",
       "E    NaN\n",
       "F    NaN\n",
       "G    0.0\n",
       "dtype: float64"
      ]
     },
     "execution_count": 42,
     "metadata": {},
     "output_type": "execute_result"
    }
   ],
   "source": [
    "# We can alos fill in values for new indexes\n",
    "ser2.reindex(['A','B','C','D','E','F','G'],fill_value=0)"
   ]
  },
  {
   "cell_type": "code",
   "execution_count": 43,
   "id": "4ae5720a",
   "metadata": {
    "collapsed": false
   },
   "outputs": [
    {
     "data": {
      "text/plain": [
       "0        USA\n",
       "5     Mexico\n",
       "10    Canada\n",
       "dtype: object"
      ]
     },
     "execution_count": 43,
     "metadata": {},
     "output_type": "execute_result"
    }
   ],
   "source": [
    "#Using a particular method for filling values\n",
    "ser3 = Series(['USA','Mexico','Canada'],index=[0,5,10])\n",
    "\n",
    "#Show\n",
    "ser3"
   ]
  },
  {
   "cell_type": "code",
   "execution_count": 44,
   "id": "5ee100cf",
   "metadata": {
    "collapsed": false
   },
   "outputs": [
    {
     "data": {
      "text/plain": [
       "0        USA\n",
       "1        USA\n",
       "2        USA\n",
       "3        USA\n",
       "4        USA\n",
       "5     Mexico\n",
       "6     Mexico\n",
       "7     Mexico\n",
       "8     Mexico\n",
       "9     Mexico\n",
       "10    Canada\n",
       "11    Canada\n",
       "12    Canada\n",
       "13    Canada\n",
       "14    Canada\n",
       "dtype: object"
      ]
     },
     "execution_count": 44,
     "metadata": {},
     "output_type": "execute_result"
    }
   ],
   "source": [
    "#Can use a forward fill for interploating values between indices \n",
    "ser3.reindex(range(15),method='ffill')"
   ]
  },
  {
   "cell_type": "code",
   "execution_count": 45,
   "id": "45bca705",
   "metadata": {
    "collapsed": false
   },
   "outputs": [
    {
     "data": {
      "text/html": [
       "<div>\n",
       "<style scoped>\n",
       "    .dataframe tbody tr th:only-of-type {\n",
       "        vertical-align: middle;\n",
       "    }\n",
       "\n",
       "    .dataframe tbody tr th {\n",
       "        vertical-align: top;\n",
       "    }\n",
       "\n",
       "    .dataframe thead th {\n",
       "        text-align: right;\n",
       "    }\n",
       "</style>\n",
       "<table border=\"1\" class=\"dataframe\">\n",
       "  <thead>\n",
       "    <tr style=\"text-align: right;\">\n",
       "      <th></th>\n",
       "      <th>col1</th>\n",
       "      <th>col2</th>\n",
       "      <th>col3</th>\n",
       "      <th>col4</th>\n",
       "      <th>col5</th>\n",
       "    </tr>\n",
       "  </thead>\n",
       "  <tbody>\n",
       "    <tr>\n",
       "      <th>A</th>\n",
       "      <td>0.558980</td>\n",
       "      <td>-2.272321</td>\n",
       "      <td>0.204348</td>\n",
       "      <td>-0.771805</td>\n",
       "      <td>-0.160506</td>\n",
       "    </tr>\n",
       "    <tr>\n",
       "      <th>B</th>\n",
       "      <td>-0.438774</td>\n",
       "      <td>0.948207</td>\n",
       "      <td>-0.157986</td>\n",
       "      <td>-0.179256</td>\n",
       "      <td>0.964703</td>\n",
       "    </tr>\n",
       "    <tr>\n",
       "      <th>D</th>\n",
       "      <td>-1.466389</td>\n",
       "      <td>0.132449</td>\n",
       "      <td>0.134669</td>\n",
       "      <td>-0.819419</td>\n",
       "      <td>1.086040</td>\n",
       "    </tr>\n",
       "    <tr>\n",
       "      <th>E</th>\n",
       "      <td>-0.556057</td>\n",
       "      <td>-1.215295</td>\n",
       "      <td>0.267768</td>\n",
       "      <td>1.716307</td>\n",
       "      <td>-0.380185</td>\n",
       "    </tr>\n",
       "    <tr>\n",
       "      <th>F</th>\n",
       "      <td>-0.158158</td>\n",
       "      <td>-0.267589</td>\n",
       "      <td>-2.004589</td>\n",
       "      <td>-0.919007</td>\n",
       "      <td>0.995870</td>\n",
       "    </tr>\n",
       "  </tbody>\n",
       "</table>\n",
       "</div>"
      ],
      "text/plain": [
       "       col1      col2      col3      col4      col5\n",
       "A  0.558980 -2.272321  0.204348 -0.771805 -0.160506\n",
       "B -0.438774  0.948207 -0.157986 -0.179256  0.964703\n",
       "D -1.466389  0.132449  0.134669 -0.819419  1.086040\n",
       "E -0.556057 -1.215295  0.267768  1.716307 -0.380185\n",
       "F -0.158158 -0.267589 -2.004589 -0.919007  0.995870"
      ]
     },
     "execution_count": 45,
     "metadata": {},
     "output_type": "execute_result"
    }
   ],
   "source": [
    "#Reindexing rows, columns or both\n",
    "\n",
    "#Lets make a dataframe with some random values\n",
    "dframe = DataFrame(randn(25).reshape((5,5)),index=['A','B','D','E','F'],columns=['col1','col2','col3','col4','col5'])\n",
    "\n",
    "#Show\n",
    "dframe"
   ]
  },
  {
   "cell_type": "code",
   "execution_count": 46,
   "id": "788cd8ca",
   "metadata": {
    "collapsed": false
   },
   "outputs": [
    {
     "data": {
      "text/html": [
       "<div>\n",
       "<style scoped>\n",
       "    .dataframe tbody tr th:only-of-type {\n",
       "        vertical-align: middle;\n",
       "    }\n",
       "\n",
       "    .dataframe tbody tr th {\n",
       "        vertical-align: top;\n",
       "    }\n",
       "\n",
       "    .dataframe thead th {\n",
       "        text-align: right;\n",
       "    }\n",
       "</style>\n",
       "<table border=\"1\" class=\"dataframe\">\n",
       "  <thead>\n",
       "    <tr style=\"text-align: right;\">\n",
       "      <th></th>\n",
       "      <th>col1</th>\n",
       "      <th>col2</th>\n",
       "      <th>col3</th>\n",
       "      <th>col4</th>\n",
       "      <th>col5</th>\n",
       "    </tr>\n",
       "  </thead>\n",
       "  <tbody>\n",
       "    <tr>\n",
       "      <th>A</th>\n",
       "      <td>0.558980</td>\n",
       "      <td>-2.272321</td>\n",
       "      <td>0.204348</td>\n",
       "      <td>-0.771805</td>\n",
       "      <td>-0.160506</td>\n",
       "    </tr>\n",
       "    <tr>\n",
       "      <th>B</th>\n",
       "      <td>-0.438774</td>\n",
       "      <td>0.948207</td>\n",
       "      <td>-0.157986</td>\n",
       "      <td>-0.179256</td>\n",
       "      <td>0.964703</td>\n",
       "    </tr>\n",
       "    <tr>\n",
       "      <th>C</th>\n",
       "      <td>NaN</td>\n",
       "      <td>NaN</td>\n",
       "      <td>NaN</td>\n",
       "      <td>NaN</td>\n",
       "      <td>NaN</td>\n",
       "    </tr>\n",
       "    <tr>\n",
       "      <th>D</th>\n",
       "      <td>-1.466389</td>\n",
       "      <td>0.132449</td>\n",
       "      <td>0.134669</td>\n",
       "      <td>-0.819419</td>\n",
       "      <td>1.086040</td>\n",
       "    </tr>\n",
       "    <tr>\n",
       "      <th>E</th>\n",
       "      <td>-0.556057</td>\n",
       "      <td>-1.215295</td>\n",
       "      <td>0.267768</td>\n",
       "      <td>1.716307</td>\n",
       "      <td>-0.380185</td>\n",
       "    </tr>\n",
       "    <tr>\n",
       "      <th>F</th>\n",
       "      <td>-0.158158</td>\n",
       "      <td>-0.267589</td>\n",
       "      <td>-2.004589</td>\n",
       "      <td>-0.919007</td>\n",
       "      <td>0.995870</td>\n",
       "    </tr>\n",
       "  </tbody>\n",
       "</table>\n",
       "</div>"
      ],
      "text/plain": [
       "       col1      col2      col3      col4      col5\n",
       "A  0.558980 -2.272321  0.204348 -0.771805 -0.160506\n",
       "B -0.438774  0.948207 -0.157986 -0.179256  0.964703\n",
       "C       NaN       NaN       NaN       NaN       NaN\n",
       "D -1.466389  0.132449  0.134669 -0.819419  1.086040\n",
       "E -0.556057 -1.215295  0.267768  1.716307 -0.380185\n",
       "F -0.158158 -0.267589 -2.004589 -0.919007  0.995870"
      ]
     },
     "execution_count": 46,
     "metadata": {},
     "output_type": "execute_result"
    }
   ],
   "source": [
    "#Notice we forgot 'C' , lets reindex it into dframe\n",
    "dframe2 = dframe.reindex(['A','B','C','D','E','F'])\n",
    "dframe2\n"
   ]
  },
  {
   "cell_type": "code",
   "execution_count": 47,
   "id": "8f78c296",
   "metadata": {},
   "outputs": [
    {
     "data": {
      "text/html": [
       "<div>\n",
       "<style scoped>\n",
       "    .dataframe tbody tr th:only-of-type {\n",
       "        vertical-align: middle;\n",
       "    }\n",
       "\n",
       "    .dataframe tbody tr th {\n",
       "        vertical-align: top;\n",
       "    }\n",
       "\n",
       "    .dataframe thead th {\n",
       "        text-align: right;\n",
       "    }\n",
       "</style>\n",
       "<table border=\"1\" class=\"dataframe\">\n",
       "  <thead>\n",
       "    <tr style=\"text-align: right;\">\n",
       "      <th></th>\n",
       "      <th>col1</th>\n",
       "      <th>col2</th>\n",
       "      <th>col3</th>\n",
       "      <th>col4</th>\n",
       "      <th>col5</th>\n",
       "    </tr>\n",
       "  </thead>\n",
       "  <tbody>\n",
       "    <tr>\n",
       "      <th>A</th>\n",
       "      <td>0.558980</td>\n",
       "      <td>-2.272321</td>\n",
       "      <td>0.204348</td>\n",
       "      <td>-0.771805</td>\n",
       "      <td>-0.160506</td>\n",
       "    </tr>\n",
       "    <tr>\n",
       "      <th>B</th>\n",
       "      <td>-0.438774</td>\n",
       "      <td>0.948207</td>\n",
       "      <td>-0.157986</td>\n",
       "      <td>-0.179256</td>\n",
       "      <td>0.964703</td>\n",
       "    </tr>\n",
       "    <tr>\n",
       "      <th>C</th>\n",
       "      <td>-1.466389</td>\n",
       "      <td>0.132449</td>\n",
       "      <td>0.134669</td>\n",
       "      <td>-0.819419</td>\n",
       "      <td>1.086040</td>\n",
       "    </tr>\n",
       "    <tr>\n",
       "      <th>D</th>\n",
       "      <td>-0.556057</td>\n",
       "      <td>-1.215295</td>\n",
       "      <td>0.267768</td>\n",
       "      <td>1.716307</td>\n",
       "      <td>-0.380185</td>\n",
       "    </tr>\n",
       "    <tr>\n",
       "      <th>E</th>\n",
       "      <td>-0.158158</td>\n",
       "      <td>-0.267589</td>\n",
       "      <td>-2.004589</td>\n",
       "      <td>-0.919007</td>\n",
       "      <td>0.995870</td>\n",
       "    </tr>\n",
       "  </tbody>\n",
       "</table>\n",
       "</div>"
      ],
      "text/plain": [
       "       col1      col2      col3      col4      col5\n",
       "A  0.558980 -2.272321  0.204348 -0.771805 -0.160506\n",
       "B -0.438774  0.948207 -0.157986 -0.179256  0.964703\n",
       "C -1.466389  0.132449  0.134669 -0.819419  1.086040\n",
       "D -0.556057 -1.215295  0.267768  1.716307 -0.380185\n",
       "E -0.158158 -0.267589 -2.004589 -0.919007  0.995870"
      ]
     },
     "execution_count": 47,
     "metadata": {},
     "output_type": "execute_result"
    }
   ],
   "source": [
    "# BP What if I want to avoid null values in C? This seems hacky\n",
    "dframe.index.values[2] = 'C'\n",
    "dframe.index.values[3] = 'D'\n",
    "dframe.index.values[4] = 'E'\n",
    "dframe\n"
   ]
  },
  {
   "cell_type": "code",
   "execution_count": 48,
   "id": "12ece8a5",
   "metadata": {},
   "outputs": [
    {
     "data": {
      "text/html": [
       "<div>\n",
       "<style scoped>\n",
       "    .dataframe tbody tr th:only-of-type {\n",
       "        vertical-align: middle;\n",
       "    }\n",
       "\n",
       "    .dataframe tbody tr th {\n",
       "        vertical-align: top;\n",
       "    }\n",
       "\n",
       "    .dataframe thead th {\n",
       "        text-align: right;\n",
       "    }\n",
       "</style>\n",
       "<table border=\"1\" class=\"dataframe\">\n",
       "  <thead>\n",
       "    <tr style=\"text-align: right;\">\n",
       "      <th></th>\n",
       "      <th>col1</th>\n",
       "      <th>col2</th>\n",
       "      <th>col3</th>\n",
       "      <th>col4</th>\n",
       "      <th>col5</th>\n",
       "    </tr>\n",
       "  </thead>\n",
       "  <tbody>\n",
       "    <tr>\n",
       "      <th>A</th>\n",
       "      <td>0.558980</td>\n",
       "      <td>-2.272321</td>\n",
       "      <td>0.204348</td>\n",
       "      <td>-0.771805</td>\n",
       "      <td>-0.160506</td>\n",
       "    </tr>\n",
       "    <tr>\n",
       "      <th>B</th>\n",
       "      <td>-0.438774</td>\n",
       "      <td>0.948207</td>\n",
       "      <td>-0.157986</td>\n",
       "      <td>-0.179256</td>\n",
       "      <td>0.964703</td>\n",
       "    </tr>\n",
       "    <tr>\n",
       "      <th>C</th>\n",
       "      <td>-1.466389</td>\n",
       "      <td>0.132449</td>\n",
       "      <td>0.134669</td>\n",
       "      <td>-0.819419</td>\n",
       "      <td>1.086040</td>\n",
       "    </tr>\n",
       "    <tr>\n",
       "      <th>D</th>\n",
       "      <td>-0.556057</td>\n",
       "      <td>-1.215295</td>\n",
       "      <td>0.267768</td>\n",
       "      <td>1.716307</td>\n",
       "      <td>-0.380185</td>\n",
       "    </tr>\n",
       "    <tr>\n",
       "      <th>E</th>\n",
       "      <td>-0.158158</td>\n",
       "      <td>-0.267589</td>\n",
       "      <td>-2.004589</td>\n",
       "      <td>-0.919007</td>\n",
       "      <td>0.995870</td>\n",
       "    </tr>\n",
       "  </tbody>\n",
       "</table>\n",
       "</div>"
      ],
      "text/plain": [
       "       col1      col2      col3      col4      col5\n",
       "A  0.558980 -2.272321  0.204348 -0.771805 -0.160506\n",
       "B -0.438774  0.948207 -0.157986 -0.179256  0.964703\n",
       "C -1.466389  0.132449  0.134669 -0.819419  1.086040\n",
       "D -0.556057 -1.215295  0.267768  1.716307 -0.380185\n",
       "E -0.158158 -0.267589 -2.004589 -0.919007  0.995870"
      ]
     },
     "execution_count": 48,
     "metadata": {},
     "output_type": "execute_result"
    }
   ],
   "source": [
    "# BP Let's try something else! this is nice!\n",
    "dframe = dframe.reindex(['A','B','D','E','F'])\n",
    "dframe.set_index(pd.Index(['A','B','C','D','E']))\n"
   ]
  },
  {
   "cell_type": "code",
   "execution_count": null,
   "id": "0390ebeb",
   "metadata": {},
   "outputs": [],
   "source": []
  },
  {
   "cell_type": "code",
   "execution_count": 49,
   "id": "8477575b",
   "metadata": {
    "collapsed": false
   },
   "outputs": [
    {
     "data": {
      "text/html": [
       "<div>\n",
       "<style scoped>\n",
       "    .dataframe tbody tr th:only-of-type {\n",
       "        vertical-align: middle;\n",
       "    }\n",
       "\n",
       "    .dataframe tbody tr th {\n",
       "        vertical-align: top;\n",
       "    }\n",
       "\n",
       "    .dataframe thead th {\n",
       "        text-align: right;\n",
       "    }\n",
       "</style>\n",
       "<table border=\"1\" class=\"dataframe\">\n",
       "  <thead>\n",
       "    <tr style=\"text-align: right;\">\n",
       "      <th></th>\n",
       "      <th>col1</th>\n",
       "      <th>col2</th>\n",
       "      <th>col3</th>\n",
       "      <th>col4</th>\n",
       "      <th>col5</th>\n",
       "      <th>col6</th>\n",
       "    </tr>\n",
       "  </thead>\n",
       "  <tbody>\n",
       "    <tr>\n",
       "      <th>A</th>\n",
       "      <td>0.558980</td>\n",
       "      <td>-2.272321</td>\n",
       "      <td>0.204348</td>\n",
       "      <td>-0.771805</td>\n",
       "      <td>-0.160506</td>\n",
       "      <td>NaN</td>\n",
       "    </tr>\n",
       "    <tr>\n",
       "      <th>B</th>\n",
       "      <td>-0.438774</td>\n",
       "      <td>0.948207</td>\n",
       "      <td>-0.157986</td>\n",
       "      <td>-0.179256</td>\n",
       "      <td>0.964703</td>\n",
       "      <td>NaN</td>\n",
       "    </tr>\n",
       "    <tr>\n",
       "      <th>C</th>\n",
       "      <td>NaN</td>\n",
       "      <td>NaN</td>\n",
       "      <td>NaN</td>\n",
       "      <td>NaN</td>\n",
       "      <td>NaN</td>\n",
       "      <td>NaN</td>\n",
       "    </tr>\n",
       "    <tr>\n",
       "      <th>D</th>\n",
       "      <td>-1.466389</td>\n",
       "      <td>0.132449</td>\n",
       "      <td>0.134669</td>\n",
       "      <td>-0.819419</td>\n",
       "      <td>1.086040</td>\n",
       "      <td>NaN</td>\n",
       "    </tr>\n",
       "    <tr>\n",
       "      <th>E</th>\n",
       "      <td>-0.556057</td>\n",
       "      <td>-1.215295</td>\n",
       "      <td>0.267768</td>\n",
       "      <td>1.716307</td>\n",
       "      <td>-0.380185</td>\n",
       "      <td>NaN</td>\n",
       "    </tr>\n",
       "    <tr>\n",
       "      <th>F</th>\n",
       "      <td>-0.158158</td>\n",
       "      <td>-0.267589</td>\n",
       "      <td>-2.004589</td>\n",
       "      <td>-0.919007</td>\n",
       "      <td>0.995870</td>\n",
       "      <td>NaN</td>\n",
       "    </tr>\n",
       "  </tbody>\n",
       "</table>\n",
       "</div>"
      ],
      "text/plain": [
       "       col1      col2      col3      col4      col5  col6\n",
       "A  0.558980 -2.272321  0.204348 -0.771805 -0.160506   NaN\n",
       "B -0.438774  0.948207 -0.157986 -0.179256  0.964703   NaN\n",
       "C       NaN       NaN       NaN       NaN       NaN   NaN\n",
       "D -1.466389  0.132449  0.134669 -0.819419  1.086040   NaN\n",
       "E -0.556057 -1.215295  0.267768  1.716307 -0.380185   NaN\n",
       "F -0.158158 -0.267589 -2.004589 -0.919007  0.995870   NaN"
      ]
     },
     "execution_count": 49,
     "metadata": {},
     "output_type": "execute_result"
    }
   ],
   "source": [
    "#Can also explicitly reindex columns\n",
    "new_columns = ['col1','col2','col3','col4','col5','col6']\n",
    "\n",
    "dframe2.reindex(columns=new_columns)"
   ]
  },
  {
   "cell_type": "code",
   "execution_count": 50,
   "id": "54a92d57",
   "metadata": {
    "collapsed": false
   },
   "outputs": [
    {
     "data": {
      "text/html": [
       "<div>\n",
       "<style scoped>\n",
       "    .dataframe tbody tr th:only-of-type {\n",
       "        vertical-align: middle;\n",
       "    }\n",
       "\n",
       "    .dataframe tbody tr th {\n",
       "        vertical-align: top;\n",
       "    }\n",
       "\n",
       "    .dataframe thead th {\n",
       "        text-align: right;\n",
       "    }\n",
       "</style>\n",
       "<table border=\"1\" class=\"dataframe\">\n",
       "  <thead>\n",
       "    <tr style=\"text-align: right;\">\n",
       "      <th></th>\n",
       "      <th>col1</th>\n",
       "      <th>col2</th>\n",
       "      <th>col3</th>\n",
       "      <th>col4</th>\n",
       "      <th>col5</th>\n",
       "    </tr>\n",
       "  </thead>\n",
       "  <tbody>\n",
       "    <tr>\n",
       "      <th>A</th>\n",
       "      <td>0.558980</td>\n",
       "      <td>-2.272321</td>\n",
       "      <td>0.204348</td>\n",
       "      <td>-0.771805</td>\n",
       "      <td>-0.160506</td>\n",
       "    </tr>\n",
       "    <tr>\n",
       "      <th>B</th>\n",
       "      <td>-0.438774</td>\n",
       "      <td>0.948207</td>\n",
       "      <td>-0.157986</td>\n",
       "      <td>-0.179256</td>\n",
       "      <td>0.964703</td>\n",
       "    </tr>\n",
       "    <tr>\n",
       "      <th>D</th>\n",
       "      <td>-1.466389</td>\n",
       "      <td>0.132449</td>\n",
       "      <td>0.134669</td>\n",
       "      <td>-0.819419</td>\n",
       "      <td>1.086040</td>\n",
       "    </tr>\n",
       "    <tr>\n",
       "      <th>E</th>\n",
       "      <td>-0.556057</td>\n",
       "      <td>-1.215295</td>\n",
       "      <td>0.267768</td>\n",
       "      <td>1.716307</td>\n",
       "      <td>-0.380185</td>\n",
       "    </tr>\n",
       "    <tr>\n",
       "      <th>F</th>\n",
       "      <td>-0.158158</td>\n",
       "      <td>-0.267589</td>\n",
       "      <td>-2.004589</td>\n",
       "      <td>-0.919007</td>\n",
       "      <td>0.995870</td>\n",
       "    </tr>\n",
       "  </tbody>\n",
       "</table>\n",
       "</div>"
      ],
      "text/plain": [
       "       col1      col2      col3      col4      col5\n",
       "A  0.558980 -2.272321  0.204348 -0.771805 -0.160506\n",
       "B -0.438774  0.948207 -0.157986 -0.179256  0.964703\n",
       "D -1.466389  0.132449  0.134669 -0.819419  1.086040\n",
       "E -0.556057 -1.215295  0.267768  1.716307 -0.380185\n",
       "F -0.158158 -0.267589 -2.004589 -0.919007  0.995870"
      ]
     },
     "execution_count": 50,
     "metadata": {},
     "output_type": "execute_result"
    }
   ],
   "source": [
    "#Reindex quickly using the label-indexing with ix (we'll see this more in the future)\n",
    "# BP -> pd.DataFrame.ix is not supported anymore, use pd.DataFrame.loc\n",
    "\n",
    "#Show original\n",
    "dframe"
   ]
  },
  {
   "cell_type": "code",
   "execution_count": 51,
   "id": "3bdd8bd9",
   "metadata": {
    "collapsed": false
   },
   "outputs": [
    {
     "data": {
      "text/html": [
       "<div>\n",
       "<style scoped>\n",
       "    .dataframe tbody tr th:only-of-type {\n",
       "        vertical-align: middle;\n",
       "    }\n",
       "\n",
       "    .dataframe tbody tr th {\n",
       "        vertical-align: top;\n",
       "    }\n",
       "\n",
       "    .dataframe thead th {\n",
       "        text-align: right;\n",
       "    }\n",
       "</style>\n",
       "<table border=\"1\" class=\"dataframe\">\n",
       "  <thead>\n",
       "    <tr style=\"text-align: right;\">\n",
       "      <th></th>\n",
       "      <th>col1</th>\n",
       "      <th>col2</th>\n",
       "      <th>col3</th>\n",
       "      <th>col4</th>\n",
       "      <th>col5</th>\n",
       "    </tr>\n",
       "  </thead>\n",
       "  <tbody>\n",
       "    <tr>\n",
       "      <th>A</th>\n",
       "      <td>0.558980</td>\n",
       "      <td>-2.272321</td>\n",
       "      <td>0.204348</td>\n",
       "      <td>-0.771805</td>\n",
       "      <td>-0.160506</td>\n",
       "    </tr>\n",
       "    <tr>\n",
       "      <th>B</th>\n",
       "      <td>-0.438774</td>\n",
       "      <td>0.948207</td>\n",
       "      <td>-0.157986</td>\n",
       "      <td>-0.179256</td>\n",
       "      <td>0.964703</td>\n",
       "    </tr>\n",
       "    <tr>\n",
       "      <th>C</th>\n",
       "      <td>NaN</td>\n",
       "      <td>NaN</td>\n",
       "      <td>NaN</td>\n",
       "      <td>NaN</td>\n",
       "      <td>NaN</td>\n",
       "    </tr>\n",
       "    <tr>\n",
       "      <th>D</th>\n",
       "      <td>-1.466389</td>\n",
       "      <td>0.132449</td>\n",
       "      <td>0.134669</td>\n",
       "      <td>-0.819419</td>\n",
       "      <td>1.086040</td>\n",
       "    </tr>\n",
       "    <tr>\n",
       "      <th>E</th>\n",
       "      <td>-0.556057</td>\n",
       "      <td>-1.215295</td>\n",
       "      <td>0.267768</td>\n",
       "      <td>1.716307</td>\n",
       "      <td>-0.380185</td>\n",
       "    </tr>\n",
       "    <tr>\n",
       "      <th>F</th>\n",
       "      <td>-0.158158</td>\n",
       "      <td>-0.267589</td>\n",
       "      <td>-2.004589</td>\n",
       "      <td>-0.919007</td>\n",
       "      <td>0.995870</td>\n",
       "    </tr>\n",
       "  </tbody>\n",
       "</table>\n",
       "</div>"
      ],
      "text/plain": [
       "       col1      col2      col3      col4      col5\n",
       "A  0.558980 -2.272321  0.204348 -0.771805 -0.160506\n",
       "B -0.438774  0.948207 -0.157986 -0.179256  0.964703\n",
       "C       NaN       NaN       NaN       NaN       NaN\n",
       "D -1.466389  0.132449  0.134669 -0.819419  1.086040\n",
       "E -0.556057 -1.215295  0.267768  1.716307 -0.380185\n",
       "F -0.158158 -0.267589 -2.004589 -0.919007  0.995870"
      ]
     },
     "execution_count": 51,
     "metadata": {},
     "output_type": "execute_result"
    }
   ],
   "source": [
    "dframe2\n",
    "\n",
    "# BP but this will not work because he did not previously overwrite the frame\n",
    "dframe2 = dframe2.reindex(columns=new_columns)\n",
    "dframe2.loc[['A','B','C','D','E','F'],new_columns]"
   ]
  },
  {
   "cell_type": "code",
   "execution_count": null,
   "id": "fe63d1b4",
   "metadata": {
    "collapsed": false
   },
   "outputs": [],
   "source": []
  }
 ],
 "metadata": {
  "kernelspec": {
   "display_name": "base",
   "language": "python",
   "name": "python3"
  },
  "language_info": {
   "codemirror_mode": {
    "name": "ipython",
    "version": 3
   },
   "file_extension": ".py",
   "mimetype": "text/x-python",
   "name": "python",
   "nbconvert_exporter": "python",
   "pygments_lexer": "ipython3",
   "version": "3.9.16"
  }
 },
 "nbformat": 4,
 "nbformat_minor": 5
}
